{
 "cells": [
  {
   "cell_type": "markdown",
   "metadata": {},
   "source": [
    "# EDA for Google Research GoEmotions dataset\n",
    "```\n",
    "conda install datasets\n",
    "```\n",
    "\n",
    "Labels:  \n",
    "  '0': admiration  \n",
    "  '1': amusement  \n",
    "  '2': anger  \n",
    "  '3': annoyance  \n",
    "  '4': approval  \n",
    "  '5': caring  \n",
    "  '6': confusion  \n",
    "  '7': curiosity  \n",
    "  '8': desire  \n",
    "  '9': disappointment  \n",
    "  '10': disapproval  \n",
    "  '11': disgust  \n",
    "  '12': embarrassment  \n",
    "  '13': excitement  \n",
    "  '14': fear  \n",
    "  '15': gratitude  \n",
    "  '16': grief  \n",
    "  '17': joy  \n",
    "  '18': love  \n",
    "  '19': nervousness  \n",
    "  '20': optimism  \n",
    "  '21': pride  \n",
    "  '22': realization  \n",
    "  '23': relief  \n",
    "  '24': remorse  \n",
    "  '25': sadness  \n",
    "  '26': surprise  \n",
    "  '27': neutral     "
   ]
  },
  {
   "cell_type": "code",
   "execution_count": null,
   "metadata": {},
   "outputs": [],
   "source": [
    "from datasets import load_dataset\n",
    "import pandas as pd\n",
    "\n",
    "dataset = load_dataset(\"google-research-datasets/go_emotions\", \"simplified\")"
   ]
  },
  {
   "cell_type": "code",
   "execution_count": null,
   "metadata": {},
   "outputs": [],
   "source": [
    "print(f\"dataset: {dataset}\")\n",
    "print(\"Column names: \", dataset['train'].column_names)\n",
    "print(\"First dataset entry: \", dataset['train'][0])\n",
    "labels = dataset['train'].features['labels']\n",
    "print(f\"labels: {labels}\")\n",
    "# label_columns = [col for col in features if features[col].dtype == 'bool']\n",
    "# print(f\"Label columns: {label_columns}\")"
   ]
  },
  {
   "cell_type": "code",
   "execution_count": null,
   "metadata": {},
   "outputs": [],
   "source": [
    "# load the dataset into pandas dataframe for usual workflow\n",
    "train_df = pd.DataFrame(dataset['train'])"
   ]
  },
  {
   "cell_type": "markdown",
   "metadata": {},
   "source": [
    "# Exploratory Data Analysis"
   ]
  },
  {
   "cell_type": "code",
   "execution_count": null,
   "metadata": {},
   "outputs": [],
   "source": [
    "from collections import Counter\n",
    "import matplotlib.pyplot as plt\n",
    "import seaborn as sns; sns.set_theme()\n",
    "import warnings; warnings.filterwarnings(\"ignore\")\n",
    "from wordcloud import WordCloud, STOPWORDS"
   ]
  },
  {
   "cell_type": "code",
   "execution_count": null,
   "metadata": {},
   "outputs": [],
   "source": [
    "train_df.head()\n",
    "train_df.columns\n",
    "# Most common tags\n",
    "# all_tags = Counter(train_df.labels) # TODO the labels are in a list and multiple labels may be correct, need to take custom care\n",
    "# all_tags.most_common()"
   ]
  }
 ],
 "metadata": {
  "kernelspec": {
   "display_name": "story-vibe",
   "language": "python",
   "name": "python3"
  },
  "language_info": {
   "codemirror_mode": {
    "name": "ipython",
    "version": 3
   },
   "file_extension": ".py",
   "mimetype": "text/x-python",
   "name": "python",
   "nbconvert_exporter": "python",
   "pygments_lexer": "ipython3",
   "version": "3.8.19"
  }
 },
 "nbformat": 4,
 "nbformat_minor": 2
}
