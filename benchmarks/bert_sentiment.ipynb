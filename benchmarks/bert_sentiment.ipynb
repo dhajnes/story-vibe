{
 "cells": [
  {
   "cell_type": "markdown",
   "metadata": {},
   "source": [
    "### BERT Sentiment installation and conda requirements\n",
    "\n",
    "example taken from https://github.com/nicknochnack/BERTSentiment/blob/main/Sentiment.ipynb\n",
    "\n",
    "```\n",
    "conda create --name story-vibe python=3.8\n",
    "conda activate story-vibe\n",
    "conda install jupyter -y\n",
    "conda install pytorch torchvision torchaudio pytorch-cuda=12.1 -c pytorch -c nvidia      # takes roughly 5 mins\n",
    "conda install transformers requests beautifulsoup4 pandas numpy\n",
    "\n",
    "```\n",
    "\n",
    "Some additional thigns may be needed, such as:\n",
    "`conda install pexpect decorator psutil -y`"
   ]
  },
  {
   "cell_type": "code",
   "execution_count": null,
   "metadata": {},
   "outputs": [],
   "source": [
    "from transformers import AutoTokenizer, AutoModelForSequenceClassification\n",
    "import torch\n",
    "import requests\n",
    "from bs4 import BeautifulSoup\n",
    "import re"
   ]
  },
  {
   "cell_type": "code",
   "execution_count": null,
   "metadata": {},
   "outputs": [],
   "source": [
    "tokenizer = AutoTokenizer.from_pretrained('nlptown/bert-base-multilingual-uncased-sentiment')\n",
    "\n",
    "model = AutoModelForSequenceClassification.from_pretrained('nlptown/bert-base-multilingual-uncased-sentiment')"
   ]
  },
  {
   "cell_type": "code",
   "execution_count": null,
   "metadata": {},
   "outputs": [],
   "source": [
    "tokens = tokenizer.encode('', return_tensors='pt')\n",
    "# print(tokens)  # the embedded representation of the text\n",
    "result = model(tokens)\n",
    "result.logits  # the vector unnormalized probability (logit) for the classes (1,2,3,4,5) bad <-> good sentiment scale\n",
    "int(torch.argmax(result.logits))+1"
   ]
  }
 ],
 "metadata": {
  "kernelspec": {
   "display_name": "story-vibe",
   "language": "python",
   "name": "python3"
  },
  "language_info": {
   "codemirror_mode": {
    "name": "ipython",
    "version": 3
   },
   "file_extension": ".py",
   "mimetype": "text/x-python",
   "name": "python",
   "nbconvert_exporter": "python",
   "pygments_lexer": "ipython3",
   "version": "3.8.-1"
  }
 },
 "nbformat": 4,
 "nbformat_minor": 2
}
